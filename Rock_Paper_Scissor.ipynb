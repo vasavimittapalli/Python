{
  "nbformat": 4,
  "nbformat_minor": 0,
  "metadata": {
    "colab": {
      "provenance": []
    },
    "kernelspec": {
      "name": "python3",
      "display_name": "Python 3"
    },
    "language_info": {
      "name": "python"
    }
  },
  "cells": [
    {
      "cell_type": "code",
      "source": [
        "rock = '''\n",
        "    _______\n",
        "---'   ____)\n",
        "      (_____)\n",
        "      (_____)\n",
        "      (____)\n",
        "---.__(___)\n",
        "'''\n",
        "\n",
        "paper = '''\n",
        "    _______\n",
        "---'   ____)____\n",
        "          ______)\n",
        "          _______)\n",
        "         _______)\n",
        "---.__________)\n",
        "'''\n",
        "\n",
        "scissors = '''\n",
        "    _______\n",
        "---'   ____)____\n",
        "          ______)\n",
        "       __________)\n",
        "      (____)\n",
        "---.__(___)\n",
        "'''\n",
        "\n",
        "RPS=[rock,paper,scissors]\n",
        "Human_choice=int(input('What do you choose? Type 0 for Rock, 1 for Paper or 2 for Scissors.\\n'))\n",
        "\n",
        "print(RPS[Human_choice])\n",
        "import random\n",
        "Computer_choice=random.randint(0,2)\n",
        "print('Computer choose:')\n",
        "print(RPS[Computer_choice])\n",
        "\n",
        "\n",
        "if Human_choice==Computer_choice:\n",
        "  print('Draw')\n",
        "else:\n",
        "  if Human_choice==0 and Computer_choice==1:\n",
        "    print(\"You lose\")\n",
        "  elif Human_choice==0 and Computer_choice==2:\n",
        "    print('You Win')\n",
        "  elif Human_choice==1 and Computer_choice==0:\n",
        "    print(\"You Win\")\n",
        "  elif Human_choice==1 and Computer_choice==2:\n",
        "    print(\"You lose\")\n",
        "  elif Human_choice==2 and Computer_choice==0:\n",
        "    print('You lose')\n",
        "  else:\n",
        "    print(\"You Win\")\n",
        "\n",
        "\n",
        "'''human_choice == 0 and computer_choice == 2:\n",
        "  print(\"You win!\")\n",
        " computer_choice == 0 and human_choice == 2:\n",
        "  print(\"You lose\")\n",
        "computer_choice > human_choice:\n",
        "  print(\"You lose\")\n",
        " human_choice > computer_choice:\n",
        "  print(\"You win!\")\n",
        " computer_choice == human_choice:\n",
        "  print(\"It's a draw\")'''"
      ],
      "metadata": {
        "colab": {
          "base_uri": "https://localhost:8080/"
        },
        "id": "ONqRnaxOLt1Y",
        "outputId": "0a08ea2e-fb71-4db0-d966-723cacffa980"
      },
      "execution_count": 31,
      "outputs": [
        {
          "output_type": "stream",
          "name": "stdout",
          "text": [
            "What do you choose? Type 0 for Rock, 1 for Paper or 2 for Scissors.\n",
            "0\n",
            "\n",
            "    _______\n",
            "---'   ____)\n",
            "      (_____)\n",
            "      (_____)\n",
            "      (____)\n",
            "---.__(___)\n",
            "\n",
            "Computer choose:\n",
            "\n",
            "    _______\n",
            "---'   ____)\n",
            "      (_____)\n",
            "      (_____)\n",
            "      (____)\n",
            "---.__(___)\n",
            "\n",
            "Draw\n"
          ]
        }
      ]
    }
  ]
}