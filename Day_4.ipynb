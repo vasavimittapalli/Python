{
  "nbformat": 4,
  "nbformat_minor": 0,
  "metadata": {
    "colab": {
      "provenance": []
    },
    "kernelspec": {
      "name": "python3",
      "display_name": "Python 3"
    },
    "language_info": {
      "name": "python"
    }
  },
  "cells": [
    {
      "cell_type": "code",
      "source": [
        "def greet():\n",
        "  print(\"Hello\")\n",
        "  print(\"Good Morning\")\n",
        "  print('How are you?')\n",
        "greet()"
      ],
      "metadata": {
        "colab": {
          "base_uri": "https://localhost:8080/"
        },
        "id": "to3n90w_PH3M",
        "outputId": "0cee6828-bd64-4908-f798-8ad2f0ce6a1b"
      },
      "execution_count": 1,
      "outputs": [
        {
          "output_type": "stream",
          "name": "stdout",
          "text": [
            "Hello\n",
            "Good Morning\n",
            "How are you?\n"
          ]
        }
      ]
    },
    {
      "cell_type": "code",
      "execution_count": 4,
      "metadata": {
        "colab": {
          "base_uri": "https://localhost:8080/"
        },
        "id": "dAjIm4uSPHVr",
        "outputId": "dece7edb-c0c2-4121-b8c4-14c7f3520cd5"
      },
      "outputs": [
        {
          "output_type": "stream",
          "name": "stdout",
          "text": [
            "Hello vasavi\n",
            "How are you doing vasavi?\n"
          ]
        }
      ],
      "source": [
        "def greet_with_name(name):\n",
        "  print(f'Hello {name}')\n",
        "  print(f'How are you doing {name}?')\n",
        "greet_with_name('vasavi')"
      ]
    },
    {
      "cell_type": "code",
      "source": [
        "def greet_with(name,location):\n",
        "  print(f'Hello {name}')\n",
        "  print(f'What is it like in {location}')\n",
        "greet_with('vasavi','NewYork')"
      ],
      "metadata": {
        "colab": {
          "base_uri": "https://localhost:8080/"
        },
        "id": "K2Gj2LXMSmNz",
        "outputId": "f44618c9-c51b-4efd-f57c-ddb084169afd"
      },
      "execution_count": 5,
      "outputs": [
        {
          "output_type": "stream",
          "name": "stdout",
          "text": [
            "Hello vasavi\n",
            "What is it like in NewYork\n"
          ]
        }
      ]
    },
    {
      "cell_type": "code",
      "source": [
        "def greet_with(name,location):\n",
        "  print(f'Hello {name}')\n",
        "  print(f'What is it like in {location}')\n",
        "greet_with(name='vasavi',location='NewYork')\n",
        "greet_with(location='NewYork',name='vasavi')"
      ],
      "metadata": {
        "colab": {
          "base_uri": "https://localhost:8080/"
        },
        "id": "Gt_Z9UEJTpXL",
        "outputId": "15ea73d8-35b7-4c88-d201-a1cc55a3d4e3"
      },
      "execution_count": 6,
      "outputs": [
        {
          "output_type": "stream",
          "name": "stdout",
          "text": [
            "Hello vasavi\n",
            "What is it like in NewYork\n",
            "Hello vasavi\n",
            "What is it like in NewYork\n"
          ]
        }
      ]
    },
    {
      "cell_type": "code",
      "source": [
        "\n",
        "\n",
        "import math\n",
        "def paint_calc(height,width,cover):\n",
        "  number_of_cans=(height*width)/cover\n",
        "  a=math.ceil(number_of_cans)\n",
        "  print(f\"You'll need {a} cans of paint.\")\n",
        "\n",
        "test_h = int(input()) # Height of wall (m)\n",
        "test_w = int(input()) # Width of wall (m)\n",
        "coverage = 5\n",
        "paint_calc(height=test_h, width=test_w, cover=coverage)"
      ],
      "metadata": {
        "id": "zf0eBSQdWG4W"
      },
      "execution_count": null,
      "outputs": []
    },
    {
      "cell_type": "code",
      "source": [
        "def prime(num):\n",
        "  for i in range(2,num):\n",
        "    if num%i==0:\n",
        "      print('NP')\n",
        "      break\n",
        "  else:\n",
        "      print('P')\n",
        "prime(75)"
      ],
      "metadata": {
        "colab": {
          "base_uri": "https://localhost:8080/"
        },
        "id": "-B2aKzEJWus6",
        "outputId": "2d5d7acb-b43f-4a42-cd0a-71cab989ea2c"
      },
      "execution_count": 21,
      "outputs": [
        {
          "output_type": "stream",
          "name": "stdout",
          "text": [
            "NP\n"
          ]
        }
      ]
    }
  ]
}