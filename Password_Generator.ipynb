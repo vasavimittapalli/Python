{
  "nbformat": 4,
  "nbformat_minor": 0,
  "metadata": {
    "colab": {
      "provenance": []
    },
    "kernelspec": {
      "name": "python3",
      "display_name": "Python 3"
    },
    "language_info": {
      "name": "python"
    }
  },
  "cells": [
    {
      "cell_type": "code",
      "execution_count": 15,
      "metadata": {
        "colab": {
          "base_uri": "https://localhost:8080/"
        },
        "id": "3kmtgxnNu8yn",
        "outputId": "28bca59b-423a-4eaa-9010-194700880d41"
      },
      "outputs": [
        {
          "output_type": "stream",
          "name": "stdout",
          "text": [
            "Welcome to the PyPassword Generator!\n",
            "How many letters would you like in your password?\n",
            "10\n",
            "How many symbols would you like?\n",
            "3\n",
            "How many numbers would you like?\n",
            "2\n",
            "Your Password is : GIYSraAhViD!#(!550\n"
          ]
        }
      ],
      "source": [
        "print(\"Welcome to the PyPassword Generator!\")\n",
        "import random\n",
        "letters = ['a', 'b', 'c', 'd', 'e', 'f', 'g', 'h', 'i', 'j', 'k', 'l', 'm', 'n', 'o', 'p', 'q', 'r', 's', 't', 'u', 'v', 'w', 'x', 'y', 'z', 'A', 'B', 'C', 'D', 'E', 'F', 'G', 'H', 'I', 'J', 'K', 'L', 'M', 'N', 'O', 'P', 'Q', 'R', 'S', 'T', 'U', 'V', 'W', 'X', 'Y', 'Z']\n",
        "numbers = ['0', '1', '2', '3', '4', '5', '6', '7', '8', '9']\n",
        "symbols = ['!', '#', '$', '%', '&', '(', ')', '*', '+']\n",
        "n_letters=int(input((\"How many letters would you like in your password?\\n\")))\n",
        "n_symbols=int(input((\"How many symbols would you like?\\n\")))\n",
        "n_numbers=int(input((\"How many numbers would you like?\\n\")))\n",
        "\n",
        "password=' '\n",
        "for i in range(0,n_letters+1):\n",
        "  password+=random.choice(letters)\n",
        "for i in range(0,n_symbols+1):\n",
        "  password+=random.choice(symbols)\n",
        "for i in range(0,n_numbers+1):\n",
        "  password+=random.choice(numbers)\n",
        "print(f'Your Password is :{password}')\n"
      ]
    },
    {
      "cell_type": "code",
      "source": [
        "password_list = []\n",
        "\n",
        "for char in range(1, n_letters + 1):\n",
        "  password_list.append(random.choice(letters))\n",
        "\n",
        "for char in range(1, n_symbols + 1):\n",
        "  password_list += random.choice(symbols)\n",
        "\n",
        "for char in range(1, n_numbers + 1):\n",
        "  password_list += random.choice(numbers)\n",
        "\n",
        "print(password_list)\n",
        "random.shuffle(password_list)\n",
        "print(password_list)\n",
        "\n",
        "password = \"\"\n",
        "for char in password_list:\n",
        "  password += char\n",
        "\n",
        "print(f\"Your password is: {password}\")"
      ],
      "metadata": {
        "colab": {
          "base_uri": "https://localhost:8080/"
        },
        "id": "T7q-bM-JvJDC",
        "outputId": "8e1e161a-cf8c-49c1-a296-90e9cdd4ee07"
      },
      "execution_count": 14,
      "outputs": [
        {
          "output_type": "stream",
          "name": "stdout",
          "text": [
            "['T', 'Y', 'T', 'O', 'T', 'J', 'p', 'k', 'v', 'V', 'f', 'W', '+', '+', '6', '4']\n",
            "['+', 'V', '4', 'p', 'W', 'k', 'f', 'v', 'J', '+', 'T', 'Y', 'T', 'O', 'T', '6']\n",
            "Your password is: +V4pWkfvJ+TYTOT6\n"
          ]
        }
      ]
    }
  ]
}