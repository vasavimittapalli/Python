{
  "nbformat": 4,
  "nbformat_minor": 0,
  "metadata": {
    "colab": {
      "provenance": []
    },
    "kernelspec": {
      "name": "python3",
      "display_name": "Python 3"
    },
    "language_info": {
      "name": "python"
    }
  },
  "cells": [
    {
      "cell_type": "code",
      "execution_count": null,
      "metadata": {
        "colab": {
          "base_uri": "https://localhost:8080/"
        },
        "id": "K6ew8rLp0rXc",
        "outputId": "580f04ba-140c-4db0-cc9e-1e07b803b617"
      },
      "outputs": [
        {
          "output_type": "stream",
          "name": "stdout",
          "text": [
            "{'Harry': 'Exceeds Expectations', 'Ron': 'Acceptable', 'Hermione': 'Outstanding', 'Draco': 'Acceptable', 'Neville': 'Fail'}\n"
          ]
        }
      ],
      "source": [
        "student_scores = {\n",
        "  \"Harry\": 81,\n",
        "  \"Ron\": 78,\n",
        "  \"Hermione\": 99,\n",
        "  \"Draco\": 74,\n",
        "  \"Neville\": 62,\n",
        "}\n",
        "\n",
        "student_grades={}\n",
        "for key in student_scores:\n",
        "  score=student_scores[key]\n",
        "\n",
        "  if 91<=score<=100:\n",
        "    student_grades[key]=\"Outstanding\"\n",
        "  elif 81<=score<=90:\n",
        "    student_grades[key]=\"Exceeds Expectations\"\n",
        "  elif 71<=score<=80:\n",
        "    student_grades[key]=\"Acceptable\"\n",
        "  else:\n",
        "    student_grades[key]=\"Fail\"\n",
        "\n",
        "print(student_grades)"
      ]
    },
    {
      "cell_type": "code",
      "source": [
        "country = input() # Add country name\n",
        "visits = int(input()) # Number of visits\n",
        "list_of_cities = eval(input()) # create list from formatted string\n",
        "\n",
        "travel_log = [\n",
        "  {\n",
        "    \"country\": \"France\",\n",
        "    \"visits\": 12,\n",
        "    \"cities\": [\"Paris\", \"Lille\", \"Dijon\"]\n",
        "  },\n",
        "  {\n",
        "    \"country\": \"Germany\",\n",
        "    \"visits\": 5,\n",
        "    \"cities\": [\"Berlin\", \"Hamburg\", \"Stuttgart\"]\n",
        "  },\n",
        "]\n",
        "# Do NOT change the code above 👆\n",
        "\n",
        "# TODO: Write the function that will allow new countries\n",
        "# to be added to the travel_log.\n",
        "\n",
        "def add_new_country(add_country, add_visits, add_list_of_cities):\n",
        "\n",
        "      travel_log.append({'country':add_country,'visits':add_visits,'cities':add_list_of_cities})\n",
        "\n",
        "# Do not change the code below 👇\n",
        "add_new_country(country, visits, list_of_cities)\n",
        "print(f\"I've been to {travel_log[2]['country']} {travel_log[2]['visits']} times.\")\n",
        "print(f\"My favourite city was {travel_log[2]['cities'][0]}.\")"
      ],
      "metadata": {
        "colab": {
          "base_uri": "https://localhost:8080/"
        },
        "id": "ucCvfPsf0wOh",
        "outputId": "0eebe08c-f0cd-4e2e-cc69-aa3bf8b3f3b9"
      },
      "execution_count": null,
      "outputs": [
        {
          "output_type": "stream",
          "name": "stdout",
          "text": [
            "brazil\n",
            "5\n",
            "[\"Sao Paulo\", \"Rio de Janeiro\"]\n",
            "I've been to brazil 5 times.\n",
            "My favourite city was Sao Paulo.\n"
          ]
        }
      ]
    }
  ]
}