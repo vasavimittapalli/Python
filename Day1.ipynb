{
  "nbformat": 4,
  "nbformat_minor": 0,
  "metadata": {
    "colab": {
      "provenance": []
    },
    "kernelspec": {
      "name": "python3",
      "display_name": "Python 3"
    },
    "language_info": {
      "name": "python"
    }
  },
  "cells": [
    {
      "cell_type": "code",
      "execution_count": null,
      "metadata": {
        "id": "btey9R7mkoDC"
      },
      "outputs": [],
      "source": [
        "#1. Create a greeting for your program.\n",
        "print(\"Welcome to the Band Name Generator.\")\n",
        "#2. Ask the user for the city that they grew up in.\n",
        "city=input(\"What's the name of the city you grew up in?\\n\")\n",
        "#3. Ask the user for the name of a pet.\n",
        "pet_name=input(\"What's your pet's name?\\n\")\n",
        "#4. Combine the name of their city and pet and show them their band name.\n",
        "Band_name=city+' '+pet_name\n",
        "#5. Make sure the input cursor shows on a new line:\n",
        "print(\"Your band name could be \"+Band_name)"
      ]
    },
    {
      "cell_type": "code",
      "source": [
        "\n",
        "height = input()\n",
        "weight = input()\n",
        "height=float(height)\n",
        "weight=int(weight)\n",
        "BMI=weight/(height * height)\n",
        "print(int(BMI))"
      ],
      "metadata": {
        "id": "oIB9HVbKu97J"
      },
      "execution_count": null,
      "outputs": []
    },
    {
      "cell_type": "code",
      "source": [
        "age = input()\n",
        "years=90-int(age)\n",
        "week=52 * years\n",
        "print(f\"You have {week} weeks left.\")"
      ],
      "metadata": {
        "id": "OvPLMnFIxqdp"
      },
      "execution_count": null,
      "outputs": []
    },
    {
      "cell_type": "code",
      "source": [
        "print(\"Welcome to the tip calculator!\")\n",
        "bill=float(input(\"What was the total bill?$\"))\n",
        "tip=int(input(\"How much tip would you like to give?10,12,15?\"))\n",
        "people=int(input(\"How many people to split the bill?\"))\n",
        "tip_per= tip /100\n",
        "total_tip=bill *tip_per\n",
        "total_bill=bill+total_tip\n",
        "cal=total_bill/people\n",
        "a=(round(cal,2))\n",
        "\n",
        "print(f\"Each person should pay:${a}\")\n"
      ],
      "metadata": {
        "colab": {
          "base_uri": "https://localhost:8080/"
        },
        "id": "tTFO9ZYS1JGP",
        "outputId": "7f62f961-8def-4b48-a758-924edcd734ad"
      },
      "execution_count": null,
      "outputs": [
        {
          "output_type": "stream",
          "name": "stdout",
          "text": [
            "Welcome to the tip calculator!\n",
            "What was the total bill?$12345678\n",
            "How much tip would you like to give?10,12,15?15\n",
            "How many people to split the bill?53\n",
            "Each person should pay:$267877.92\n"
          ]
        }
      ]
    },
    {
      "cell_type": "code",
      "source": [
        "print(\"Welcome to the RollerCoaster\")\n",
        "height=int(input(\"Enter height in cm:\"))\n",
        "if height>=120:\n",
        "  print(\"You can ride the RollerCoaster\")\n",
        "else:\n",
        "  print(\"Sorry! you can't ride the RollerCoaster\")"
      ],
      "metadata": {
        "colab": {
          "base_uri": "https://localhost:8080/"
        },
        "id": "d7OBDSFd1OJg",
        "outputId": "b50e72f5-97a9-489c-c1c6-9228b1d5c392"
      },
      "execution_count": null,
      "outputs": [
        {
          "output_type": "stream",
          "name": "stdout",
          "text": [
            "Welcome to the RollerCoaster\n",
            "Enter height in cm:120\n",
            "You can ride the RollerCoaster\n"
          ]
        }
      ]
    },
    {
      "cell_type": "code",
      "source": [
        "\n",
        "number = int(input())\n",
        "\n",
        "if number%2==0:\n",
        "  print(\"This is an even number.\")\n",
        "else:\n",
        "  print(\"This is an odd number.\")"
      ],
      "metadata": {
        "id": "x9WDx2q-O3g6"
      },
      "execution_count": null,
      "outputs": []
    },
    {
      "cell_type": "code",
      "source": [
        "print(\"Welcome to the RollerCoaster\")\n",
        "height=int(input(\"Enter height in cm:\"))\n",
        "\n",
        "if height>120:\n",
        "  print(\"You can ride the RollerCoaster\")\n",
        "  age=int(input(\"Enter age:\"))\n",
        "  if age>18:\n",
        "    print(\"The ticket cost is $12\")\n",
        "  else:\n",
        "    print(\"The ticket cost is $7\")\n",
        "else:\n",
        "  print(\"Sorry! you can't ride the RollerCoaster\")"
      ],
      "metadata": {
        "colab": {
          "base_uri": "https://localhost:8080/"
        },
        "id": "ichcGwdgO6Zw",
        "outputId": "7fac1622-bee5-48f7-f28c-3be49d9c60e1"
      },
      "execution_count": null,
      "outputs": [
        {
          "output_type": "stream",
          "name": "stdout",
          "text": [
            "Welcome to the RollerCoaster\n",
            "Enter height in cm:110\n",
            "Sorry! you can't ride the RollerCoaster\n"
          ]
        }
      ]
    },
    {
      "cell_type": "code",
      "source": [
        "print(\"Welcome to the RollerCoaster\")\n",
        "height=int(input(\"Enter height in cm:\"))\n",
        "\n",
        "if height>120:\n",
        "  print(\"You can ride the RollerCoaster\")\n",
        "  age=int(input(\"Enter age:\"))\n",
        "  if age>18:\n",
        "    print(\"The ticket cost is $12\")\n",
        "  elif 12<age<18:\n",
        "    print(\"The ticket cost is $7\")\n",
        "  else:\n",
        "    print(\"The ticket cost is $5\")\n",
        "else:\n",
        "  print(\"Sorry! you can't ride the RollerCoaster\")"
      ],
      "metadata": {
        "colab": {
          "base_uri": "https://localhost:8080/"
        },
        "id": "zq8xs2o3QZIR",
        "outputId": "88191be1-1595-4b52-e52d-60ecc74bd074"
      },
      "execution_count": null,
      "outputs": [
        {
          "output_type": "stream",
          "name": "stdout",
          "text": [
            "Welcome to the RollerCoaster\n",
            "Enter height in cm:125\n",
            "You can ride the RollerCoaster\n",
            "Enter age:15\n",
            "The ticket cost is $7\n"
          ]
        }
      ]
    },
    {
      "cell_type": "code",
      "source": [
        "height = input()\n",
        "weight = input()\n",
        "height=float(height)\n",
        "weight=int(weight)\n",
        "BMI=weight/(height * height)\n",
        "if BMI<18.5:\n",
        "  print(f'Your BMI is {BMI}, you are underweight.')\n",
        "elif BMI<25:\n",
        "  print(f'Your BMI is {BMI}, you have a normal weight.')\n",
        "elif BMI<30:\n",
        "  print(f'Your BMI is {BMI}, you are slightly overweight.')\n",
        "elif BMI<35:\n",
        "  print(f'Your BMI is {BMI}, you are obese.')\n",
        "else:\n",
        "  print(f'Your BMI is {BMI}, you are clinically obese.')"
      ],
      "metadata": {
        "id": "35S4z_DDREK8"
      },
      "execution_count": null,
      "outputs": []
    },
    {
      "cell_type": "code",
      "source": [
        "year = int(input())\n",
        "if year%4==0:\n",
        "  if year%100==0:\n",
        "    if year%400==0:\n",
        "      print(\"Leap year\")\n",
        "    else:\n",
        "      print('Not leap year')\n",
        "\n",
        "  else:\n",
        "    print('Leap year')\n",
        "else:\n",
        "  print(\"Not leap year\")\n"
      ],
      "metadata": {
        "id": "8VSKM5MiYpub",
        "outputId": "1a3cd731-799c-493f-f6f5-7e305f5dde55",
        "colab": {
          "base_uri": "https://localhost:8080/"
        }
      },
      "execution_count": null,
      "outputs": [
        {
          "output_type": "stream",
          "name": "stdout",
          "text": [
            "2024\n",
            "Leap year\n"
          ]
        }
      ]
    },
    {
      "cell_type": "code",
      "source": [
        "print(\"Welcome to the RollerCoaster\")\n",
        "height=int(input(\"Enter height in cm:\"))\n",
        "bill=0\n",
        "if height>120:\n",
        "  print(\"You can ride the RollerCoaster\")\n",
        "  age=int(input(\"Enter age:\"))\n",
        "  if age>18:\n",
        "    bill=12\n",
        "    print(f\"Adult tickets are ${bill}\")\n",
        "  elif 12<age<18:\n",
        "    bill=7\n",
        "    print(f\"Youth tickets are ${bill}\")\n",
        "  else:\n",
        "    bill=5\n",
        "    print(f\"child tickets are ${bill}\")\n",
        "  photo=input(\"Do you want a photo taken? Y or N: \")\n",
        "  if photo=='Y':\n",
        "    bill=bill+3\n",
        "    print(f'The Final Price ${bill}')\n",
        "  else:\n",
        "    print(f'The Final Price is ${bill}')\n",
        "\n",
        "else:\n",
        "  print(\"Sorry! you can't ride the RollerCoaster\")"
      ],
      "metadata": {
        "id": "RENUkBlqYrRz",
        "colab": {
          "base_uri": "https://localhost:8080/"
        },
        "outputId": "6db522b7-a2f9-4923-ae5d-b5b3a4fdfa68"
      },
      "execution_count": null,
      "outputs": [
        {
          "output_type": "stream",
          "name": "stdout",
          "text": [
            "Welcome to the RollerCoaster\n",
            "Enter height in cm:148\n",
            "You can ride the RollerCoaster\n",
            "Enter age:22\n",
            "Adult tickets are $12\n",
            "Do you want a photo taken? Y or N: Y\n",
            "The Final Price $15\n"
          ]
        }
      ]
    },
    {
      "cell_type": "code",
      "source": [
        "print(\"Thank you for choosing Python Pizza Deliveries!\")\n",
        "size = input() # What size pizza do you want? S, M, or L\n",
        "add_pepperoni = input() # Do you want pepperoni? Y or N\n",
        "extra_cheese = input() # Do you want extra cheese? Y or N\n",
        "# 🚨 Don't change the code above 👆\n",
        "# Write your code below this line 👇\n",
        "bill=0\n",
        "if size=='S':\n",
        "  bill=15\n",
        "  if add_pepperoni=='Y':\n",
        "    bill=bill+2\n",
        "\n",
        "\n",
        "elif size=='M':\n",
        "  bill=20\n",
        "  if add_pepperoni=='Y':\n",
        "    bill=bill+3\n",
        "\n",
        "\n",
        "else:\n",
        "  bill=25\n",
        "  if add_pepperoni=='Y':\n",
        "    bill=bill+3\n",
        "\n",
        "\n",
        "if extra_cheese=='Y':\n",
        "  bill=bill+1\n",
        "  print(f'Your final bill is ${bill}.')\n",
        "else:\n",
        "  print(f'Your final bill is ${bill}.')"
      ],
      "metadata": {
        "colab": {
          "base_uri": "https://localhost:8080/"
        },
        "id": "tV-wosLBoYEB",
        "outputId": "34f9e466-9d30-4288-d8bc-e29dee76509a"
      },
      "execution_count": null,
      "outputs": [
        {
          "output_type": "stream",
          "name": "stdout",
          "text": [
            "Thank you for choosing Python Pizza Deliveries!\n",
            "M\n",
            "N\n",
            "Y\n",
            "Your final bill is $21.\n"
          ]
        }
      ]
    },
    {
      "cell_type": "code",
      "source": [
        "print(\"Welcome to the RollerCoaster\")\n",
        "height=int(input(\"Enter height in cm:\"))\n",
        "bill=0\n",
        "if height>120:\n",
        "  print(\"You can ride the RollerCoaster\")\n",
        "  age=int(input(\"Enter age:\"))\n",
        "  if age<=18:\n",
        "    bill=12\n",
        "    print(f\"Adult tickets are ${bill}\")\n",
        "  elif age<=12:\n",
        "    bill=7\n",
        "    print(f\"Youth tickets are ${bill}\")\n",
        "  elif age>=45 and age<=55:\n",
        "    print('Have a free ride')\n",
        "  else:\n",
        "    bill=5\n",
        "    print(f\"child tickets are ${bill}\")\n",
        "  photo=input(\"Do you want a photo taken? Y or N: \")\n",
        "  if photo=='Y':\n",
        "    bill=bill+3\n",
        "    print(f'The Final Price ${bill}')\n",
        "  else:\n",
        "    print(f'The Final Price is ${bill}')\n",
        "\n",
        "else:\n",
        "  print(\"Sorry! you can't ride the RollerCoaster\")"
      ],
      "metadata": {
        "colab": {
          "base_uri": "https://localhost:8080/"
        },
        "id": "CAVq0L_FtERt",
        "outputId": "4636e92d-c57c-4727-bb4b-b589e34782be"
      },
      "execution_count": null,
      "outputs": [
        {
          "output_type": "stream",
          "name": "stdout",
          "text": [
            "Welcome to the RollerCoaster\n",
            "Enter height in cm:156\n",
            "You can ride the RollerCoaster\n",
            "Enter age:55\n",
            "Have a free ride\n",
            "Do you want a photo taken? Y or N: Y\n",
            "The Final Price $3\n"
          ]
        }
      ]
    },
    {
      "cell_type": "code",
      "source": [
        "print(\"The Love Calculator is calculating your score...\")\n",
        "name1 = input() # What is your name?\n",
        "name2 = input() # What is their name?\n",
        "# 🚨 Don't change the code above 👆\n",
        "# Write your code below this line 👇\n",
        "name=name1+name2\n",
        "name_lower=name.lower()\n",
        "t=name_lower.count('t')\n",
        "r=name_lower.count('r')\n",
        "u=name_lower.count('u')\n",
        "e=name_lower.count('e')\n",
        "total1=t+r+u+e\n",
        "l=name_lower.count('l')\n",
        "o=name_lower.count('o')\n",
        "v=name_lower.count('v')\n",
        "e=name_lower.count('e')\n",
        "total2=l+o+v+e\n",
        "\n",
        "score=int(str(total1)+str(total2))\n",
        "if score<10 or score>90:\n",
        "  print(f'Your score is {score}, you go together like coke and mentos.')\n",
        "elif 40<score<50:\n",
        "  print(f'Your score is {score}, you are alright together.')\n",
        "else:\n",
        "  print(f'Your score is {score}.')"
      ],
      "metadata": {
        "colab": {
          "base_uri": "https://localhost:8080/"
        },
        "id": "rGmtLxbZv2DS",
        "outputId": "b42cfabe-0c6e-479b-e45a-13c2c79f769a"
      },
      "execution_count": null,
      "outputs": [
        {
          "output_type": "stream",
          "name": "stdout",
          "text": [
            "The Love Calculator is calculating your score...\n",
            "angela yu\n",
            "jack bauer\n",
            "Your score is 53.\n"
          ]
        }
      ]
    },
    {
      "cell_type": "code",
      "source": [],
      "metadata": {
        "id": "an8eXOXz-Oor"
      },
      "execution_count": null,
      "outputs": []
    }
  ]
}