{
  "nbformat": 4,
  "nbformat_minor": 0,
  "metadata": {
    "colab": {
      "provenance": []
    },
    "kernelspec": {
      "name": "python3",
      "display_name": "Python 3"
    },
    "language_info": {
      "name": "python"
    }
  },
  "cells": [
    {
      "cell_type": "code",
      "execution_count": 26,
      "metadata": {
        "id": "6roex2FrAUWV",
        "colab": {
          "base_uri": "https://localhost:8080/"
        },
        "outputId": "3a1f301f-f5e8-4430-bd10-e0ba6150567a"
      },
      "outputs": [
        {
          "output_type": "stream",
          "name": "stdout",
          "text": [
            "Welcome to the Secret auction program\n",
            "What is your name: vasavi\n",
            "What is your bid: $500\n",
            "Are there any other bidders?yes\n",
            "What is your name: uday\n",
            "What is your bid: $900\n",
            "Are there any other bidders?yes\n",
            "What is your name: laxmi\n",
            "What is your bid: $800\n",
            "Are there any other bidders?no\n",
            "The winner is uday with a bid of $900\n"
          ]
        }
      ],
      "source": [
        "\n",
        "print(\"Welcome to the Secret auction program\")\n",
        "bids={}\n",
        "bidding_finished=False\n",
        "\n",
        "\n",
        "def find_highest_bidder(bidding_record):\n",
        "  highest_bid = 0\n",
        "  winner = \"\"\n",
        "\n",
        "  for bidder in bidding_record:\n",
        "    bid_amount = bidding_record[bidder]\n",
        "    if bid_amount > highest_bid:\n",
        "      highest_bid = bid_amount\n",
        "      winner = bidder\n",
        "  print(f\"The winner is {winner} with a bid of ${highest_bid}\")\n",
        "while not bidding_finished:\n",
        "  name=input('What is your name: ')\n",
        "  price=int(input('What is your bid: $'))\n",
        "  bids[name]=price\n",
        "  a=input(\"Are there any other bidders?\").lower()\n",
        "  if a=='no':\n",
        "    bidding_finished=True\n",
        "    find_highest_bidder(bids)\n",
        "  elif a=='Yes':\n",
        "    clear()\n",
        "\n"
      ]
    },
    {
      "cell_type": "code",
      "source": [
        "9"
      ],
      "metadata": {
        "id": "WGNlMyfqIOXq"
      },
      "execution_count": null,
      "outputs": []
    }
  ]
}