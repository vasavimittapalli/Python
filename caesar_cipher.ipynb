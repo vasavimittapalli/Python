{
  "nbformat": 4,
  "nbformat_minor": 0,
  "metadata": {
    "colab": {
      "provenance": []
    },
    "kernelspec": {
      "name": "python3",
      "display_name": "Python 3"
    },
    "language_info": {
      "name": "python"
    }
  },
  "cells": [
    {
      "cell_type": "code",
      "source": [
        "alphabet = ['a', 'b', 'c', 'd', 'e', 'f', 'g', 'h', 'i', 'j', 'k', 'l', 'm', 'n', 'o', 'p', 'q', 'r', 's', 't', 'u', 'v', 'w', 'x', 'y', 'z', 'a', 'b', 'c', 'd', 'e', 'f', 'g', 'h', 'i', 'j', 'k', 'l', 'm', 'n', 'o', 'p', 'q', 'r', 's', 't', 'u', 'v', 'w', 'x', 'y', 'z']\n",
        "\n",
        "direction = input(\"Type 'encode' to encrypt, type 'decode' to decrypt:\\n\")\n",
        "text = input(\"Type your message:\\n\").lower()\n",
        "shift = int(input(\"Type the shift number:\\n\"))\n",
        "\n",
        "def encrypt(plain_text, shift_amount):\n",
        "  cipher_text = \"\"\n",
        "  for letter in plain_text:\n",
        "    position = alphabet.index(letter)\n",
        "    new_position = position + shift_amount\n",
        "    cipher_text += alphabet[new_position]\n",
        "  print(f\"The encoded text is {cipher_text}\")\n",
        "\n",
        "def decrypt(cipher_text, shift_amount):\n",
        "  plain_text = \"\"\n",
        "  for letter in cipher_text:\n",
        "    position = alphabet.index(letter)\n",
        "    new_position = position - shift_amount\n",
        "    plain_text += alphabet[new_position]\n",
        "  print(f\"The decoded text is {plain_text}\")\n",
        "\n",
        "\n",
        "\n",
        "if direction == \"encode\":\n",
        "  encrypt(plain_text=text, shift_amount=shift)\n",
        "elif direction == \"decode\":\n",
        "  decrypt(cipher_text=text, shift_amount=shift)"
      ],
      "metadata": {
        "colab": {
          "base_uri": "https://localhost:8080/"
        },
        "id": "3fKkSNFX2lS_",
        "outputId": "52f55ca4-3513-4e9f-9d25-634b37398d7b"
      },
      "execution_count": null,
      "outputs": [
        {
          "output_type": "stream",
          "name": "stdout",
          "text": [
            "Type 'encode' to encrypt, type 'decode' to decrypt:\n",
            "encode\n",
            "Type your message:\n",
            "vasavi\n",
            "Type the shift number:\n",
            "5\n",
            "The encoded text is afxfan\n"
          ]
        }
      ]
    }
  ]
}