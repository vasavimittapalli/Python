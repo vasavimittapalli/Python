{
  "nbformat": 4,
  "nbformat_minor": 0,
  "metadata": {
    "colab": {
      "provenance": []
    },
    "kernelspec": {
      "name": "python3",
      "display_name": "Python 3"
    },
    "language_info": {
      "name": "python"
    }
  },
  "cells": [
    {
      "cell_type": "code",
      "execution_count": null,
      "metadata": {
        "colab": {
          "base_uri": "https://localhost:8080/"
        },
        "id": "A45B63R4EY2N",
        "outputId": "46d416f8-1ed9-44cd-fc76-2df89b793f10"
      },
      "outputs": [
        {
          "output_type": "stream",
          "name": "stdout",
          "text": [
            "4\n"
          ]
        }
      ],
      "source": [
        "import random\n",
        "r=random.randint(1,10)\n",
        "print(r)"
      ]
    },
    {
      "cell_type": "code",
      "source": [
        "random.random()"
      ],
      "metadata": {
        "colab": {
          "base_uri": "https://localhost:8080/"
        },
        "id": "9lqKSJ_wIrQD",
        "outputId": "15316349-d0bc-43e4-8eaf-9a235202b609"
      },
      "execution_count": null,
      "outputs": [
        {
          "output_type": "execute_result",
          "data": {
            "text/plain": [
              "0.517632450683628"
            ]
          },
          "metadata": {},
          "execution_count": 6
        }
      ]
    },
    {
      "cell_type": "code",
      "source": [
        "Heads_or_Tails=random.randint(0,1)\n",
        "Heads_or_Tails"
      ],
      "metadata": {
        "colab": {
          "base_uri": "https://localhost:8080/"
        },
        "id": "cb2s8u4oKKbl",
        "outputId": "b400ff21-4cdc-4a58-dd82-7d640961225b"
      },
      "execution_count": null,
      "outputs": [
        {
          "output_type": "execute_result",
          "data": {
            "text/plain": [
              "0"
            ]
          },
          "metadata": {},
          "execution_count": 10
        }
      ]
    },
    {
      "cell_type": "code",
      "source": [
        "import random\n",
        "Heads_or_Tails=random.randint(0,1)\n",
        "if Heads_or_Tails==1:\n",
        "  print('Heads')\n",
        "else:\n",
        "  print(\"Tails\")"
      ],
      "metadata": {
        "colab": {
          "base_uri": "https://localhost:8080/"
        },
        "id": "T2Y_nfdwK5ub",
        "outputId": "07fba5d2-8c7a-4566-d516-b1460ca8434d"
      },
      "execution_count": null,
      "outputs": [
        {
          "output_type": "stream",
          "name": "stdout",
          "text": [
            "Tails\n"
          ]
        }
      ]
    },
    {
      "cell_type": "code",
      "source": [
        "import random\n",
        "names_string=input()\n",
        "names = names_string.split(\", \")\n",
        "total=len(names)\n",
        "\n",
        "names_choice=random.randint(0,total-1)\n",
        "names_pay=names[names_choice]\n",
        "print(names_pay+' is going to buy the meal today!')"
      ],
      "metadata": {
        "colab": {
          "base_uri": "https://localhost:8080/"
        },
        "id": "Bv-BBuRz8NLn",
        "outputId": "065e3848-311e-457f-95f0-0eb61a60750f"
      },
      "execution_count": 24,
      "outputs": [
        {
          "output_type": "stream",
          "name": "stdout",
          "text": [
            "vasavi, laxmi, uday, mnr\n",
            "vasavi is going to buy the meal today!\n"
          ]
        }
      ]
    },
    {
      "cell_type": "code",
      "source": [
        "\n",
        "line1 = [\"⬜️\",\"️⬜️\",\"️⬜️\"]\n",
        "line2 = [\"⬜️\",\"⬜️\",\"️⬜️\"]\n",
        "line3 = [\"⬜️️\",\"⬜️️\",\"⬜️️\"]\n",
        "map = [line1, line2, line3]\n",
        "print(\"Hiding your treasure! X marks the spot.\")\n",
        "position = input()\n",
        "letter=position[0].lower()\n",
        "abc=['a','b','c']\n",
        "l_index=abc.index(letter)\n",
        "\n",
        "number=int(position[1])-1\n",
        "map[number][l_index]='X'\n",
        "\n",
        "\n",
        "print(f\"{line1}\\n{line2}\\n{line3}\")"
      ],
      "metadata": {
        "colab": {
          "base_uri": "https://localhost:8080/"
        },
        "id": "jQ4tfiLH8dzX",
        "outputId": "07e448ff-bd79-4c45-aff7-0d0256e3ba83"
      },
      "execution_count": 59,
      "outputs": [
        {
          "output_type": "stream",
          "name": "stdout",
          "text": [
            "Hiding your treasure! X marks the spot.\n",
            "b3\n",
            "['⬜️', '️⬜️', '️⬜️']\n",
            "['⬜️', '⬜️', '️⬜️']\n",
            "['⬜️️', 'X', '⬜️️']\n"
          ]
        }
      ]
    },
    {
      "cell_type": "code",
      "source": [],
      "metadata": {
        "id": "szIO9PsqA39O"
      },
      "execution_count": null,
      "outputs": []
    }
  ]
}